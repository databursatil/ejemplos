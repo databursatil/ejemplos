{
 "cells": [
  {
   "cell_type": "markdown",
   "source": [
    "# Endpoint /top\n",
    "#### Este endpoint permite obtener cotización de emisoras filtrando por principales alzas, bajas, operaciones, importe operado o volumen, así como por mercado y bolsa.\n",
    "###### Consuta la documentación completa para este endpoint en: https://databursatil.com/docs.html#top"
   ],
   "metadata": {
    "collapsed": false,
    "pycharm": {
     "name": "#%% md\n"
    }
   }
  },
  {
   "cell_type": "markdown",
   "source": [
    "En este ejemplo, utilizaremos los parámetros <code>'variables': 'suben,bajan,volumen,importe,operaciones'</code>, <code>'bolsa': 'BMV'</code>, <code>'cantidad': '5'</code> y <code>'mercado': 'local'</code>"
   ],
   "metadata": {
    "collapsed": false,
    "pycharm": {
     "name": "#%% md\n"
    }
   }
  },
  {
   "cell_type": "code",
   "execution_count": 1,
   "outputs": [
    {
     "name": "stdout",
     "output_type": "stream",
     "text": [
      "Estos son los primeros registros de cada rubro:\n",
      "\n",
      "Suben: {'emisora_serie': 'VALUEGFO', 'ultimo': 110.0, 'cambio%': 13.72}\n",
      "Bajan: {'emisora_serie': 'GICSAB', 'ultimo': 1.87, 'cambio%': -5.08}\n",
      "Volumen: {'emisora_serie': 'AMXL', 'ultimo': 17.87, 'volumen': 78265882}\n",
      "Importe: {'emisora_serie': 'AMXL', 'ultimo': 17.87, 'importe': 1408671823.35}\n",
      "Operaciones: {'emisora_serie': 'WALMEX*', 'ultimo': 72.4, 'operaciones': 27864}\n"
     ]
    }
   ],
   "source": [
    "import requests\n",
    "import json\n",
    "\n",
    "url = \"https://api.databursatil.com/v1/top\"\n",
    "\n",
    "parametros = {\"token\": \"TU_TOKEN\",\n",
    "              \"variables\": \"suben,bajan,volumen,importe,operaciones\",\n",
    "              \"bolsa\": \"BMV\",\n",
    "              \"cantidad\": \"5\",\n",
    "              \"mercado\": \"local\"}\n",
    "\n",
    "top = requests.get(url, params=parametros)\n",
    "top = json.loads(top.content)\n",
    "\n",
    "print(\"Estos son los primeros registros de cada rubro:\")\n",
    "print(\"\")\n",
    "\n",
    "\n",
    "print(f\"Suben: {top['SUBEN']['0']}\")\n",
    "print(f\"Bajan: {top['BAJAN']['0']}\")\n",
    "print(f\"Volumen: {top['VOLUMEN']['0']}\")\n",
    "print(f\"Importe: {top['IMPORTE']['0']}\")\n",
    "print(f\"Operaciones: {top['OPERACIONES']['0']}\")"
   ],
   "metadata": {
    "collapsed": false,
    "pycharm": {
     "name": "#%%\n"
    }
   }
  },
  {
   "cell_type": "markdown",
   "source": [
    "Podemos ejecutar el mismo Endpoint con parámetros diferentes:"
   ],
   "metadata": {
    "collapsed": false,
    "pycharm": {
     "name": "#%% md\n"
    }
   }
  },
  {
   "cell_type": "code",
   "execution_count": 2,
   "outputs": [
    {
     "name": "stdout",
     "output_type": "stream",
     "text": [
      "Estos son los primeros registros de cada rubro:\n",
      "\n",
      "Suben: {'emisora_serie': 'VOLARA', 'ultimo': 15.43, 'cambio%': 5.04}\n",
      "Bajan: {'emisora_serie': 'SRE*', 'ultimo': 3124.8, 'cambio%': -3.71}\n"
     ]
    }
   ],
   "source": [
    "import requests\n",
    "import json\n",
    "\n",
    "url = \"https://api.databursatil.com/v1/top\"\n",
    "\n",
    "parametros = {\"token\": \"TU_TOKEN\",\n",
    "              \"variables\": \"suben,bajan\",\n",
    "              \"bolsa\": \"BIVA\",\n",
    "              \"cantidad\": \"3\",\n",
    "              \"mercado\": \"local\"}\n",
    "\n",
    "top = requests.get(url, params=parametros)\n",
    "top = json.loads(top.content)\n",
    "\n",
    "print(\"Estos son los primeros registros de cada rubro:\")\n",
    "print(\"\")\n",
    "\n",
    "\n",
    "print(f\"Suben: {top['SUBEN']['0']}\")\n",
    "print(f\"Bajan: {top['BAJAN']['0']}\")"
   ],
   "metadata": {
    "collapsed": false,
    "pycharm": {
     "name": "#%%\n"
    }
   }
  }
 ],
 "metadata": {
  "kernelspec": {
   "display_name": "Python 3",
   "language": "python",
   "name": "python3"
  },
  "language_info": {
   "codemirror_mode": {
    "name": "ipython",
    "version": 2
   },
   "file_extension": ".py",
   "mimetype": "text/x-python",
   "name": "python",
   "nbconvert_exporter": "python",
   "pygments_lexer": "ipython2",
   "version": "2.7.6"
  }
 },
 "nbformat": 4,
 "nbformat_minor": 0
}