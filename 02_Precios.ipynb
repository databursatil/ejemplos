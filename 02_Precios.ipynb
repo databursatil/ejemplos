{
 "cells": [
  {
   "cell_type": "markdown",
   "source": [
    "# Endpoint /precios\n",
    "#### Este endpoint permite obtener último precio, precio promedio ponderado, cambio porcentual y monetario de la emisora, serie y bolsa solicitada.\n",
    "###### Consuta la documentación completa para este endpoint en: https://databursatil.com/docs.html#precios"
   ],
   "metadata": {
    "collapsed": false,
    "pycharm": {
     "name": "#%% md\n"
    }
   }
  },
  {
   "cell_type": "markdown",
   "source": [
    "En este ejemplo, utilizaremos los parámetros <code>'emisora_serie': 'GFNORTEO'</code> y <code>'bolsa': 'BMV,BIVA'<code>"
   ],
   "metadata": {
    "collapsed": false,
    "pycharm": {
     "name": "#%% md\n"
    }
   }
  },
  {
   "cell_type": "code",
   "execution_count": 1,
   "outputs": [
    {
     "data": {
      "text/plain": "{'BMV': {'ultimo': 131.23,\n  'ppp': 131.33,\n  'cambio%': -2.18,\n  'cambio$': -2.93,\n  'tiempo': '2022-09-23 03:00:00'},\n 'BIVA': {'ultimo': 131.24,\n  'ppp': 0.0,\n  'cambio%': -2.25,\n  'cambio$': -3.02,\n  'tiempo': '2022-09-23 03:09:00'}}"
     },
     "execution_count": 1,
     "metadata": {},
     "output_type": "execute_result"
    }
   ],
   "source": [
    "import requests\n",
    "import json\n",
    "\n",
    "url = \"https://api.databursatil.com/v1/precios\"\n",
    "\n",
    "parametros = {\"token\": \"TU_TOKEN\",\n",
    "              \"emisora_serie\": \"GFNORTEO\",\n",
    "              \"bolsa\": \"BMV,BIVA\"}\n",
    "\n",
    "precios = requests.get(url, params=parametros)\n",
    "precios = json.loads(precios.content)\n",
    "\n",
    "precios"
   ],
   "metadata": {
    "collapsed": false,
    "pycharm": {
     "name": "#%%\n"
    }
   }
  },
  {
   "cell_type": "markdown",
   "source": [
    "Podemos tomar el último precio de BMV y, por ejemplo, calcular cuál era el precio de cierre anterior con base al cambio monetario."
   ],
   "metadata": {
    "collapsed": false,
    "pycharm": {
     "name": "#%% md\n"
    }
   }
  },
  {
   "cell_type": "code",
   "execution_count": 2,
   "outputs": [
    {
     "data": {
      "text/plain": "134.16"
     },
     "execution_count": 2,
     "metadata": {},
     "output_type": "execute_result"
    }
   ],
   "source": [
    "precios[\"BMV\"][\"ultimo\"]-precios[\"BMV\"][\"cambio$\"]"
   ],
   "metadata": {
    "collapsed": false,
    "pycharm": {
     "name": "#%%\n"
    }
   }
  },
  {
   "cell_type": "markdown",
   "source": [
    "Mismo ejemplo, pero usando como base el cambio porcentual."
   ],
   "metadata": {
    "collapsed": false,
    "pycharm": {
     "name": "#%% md\n"
    }
   }
  },
  {
   "cell_type": "code",
   "execution_count": 3,
   "outputs": [
    {
     "data": {
      "text/plain": "134.1545696176651"
     },
     "execution_count": 3,
     "metadata": {},
     "output_type": "execute_result"
    }
   ],
   "source": [
    "precios[\"BMV\"][\"ultimo\"]/(1+precios[\"BMV\"][\"cambio%\"]/100)"
   ],
   "metadata": {
    "collapsed": false,
    "pycharm": {
     "name": "#%%\n"
    }
   }
  },
  {
   "cell_type": "markdown",
   "source": [
    "Si solo necesitamos los datos de una bolsa en particular, podemos declararlo como parámetro:"
   ],
   "metadata": {
    "collapsed": false,
    "pycharm": {
     "name": "#%% md\n"
    }
   }
  },
  {
   "cell_type": "code",
   "execution_count": 4,
   "outputs": [
    {
     "data": {
      "text/plain": "{'BIVA': {'ultimo': 131.24,\n  'ppp': 0.0,\n  'cambio%': -2.25,\n  'cambio$': -3.02,\n  'tiempo': '2022-09-23 03:09:00'}}"
     },
     "execution_count": 4,
     "metadata": {},
     "output_type": "execute_result"
    }
   ],
   "source": [
    "import requests\n",
    "import json\n",
    "\n",
    "url = \"https://api.databursatil.com/v1/precios\"\n",
    "\n",
    "parametros = {\"token\": \"TU_TOKEN\",\n",
    "              \"emisora_serie\": \"GFNORTEO\",\n",
    "              \"bolsa\": \"BIVA\"}\n",
    "\n",
    "precios = requests.get(url, params=parametros)\n",
    "precios = json.loads(precios.content)\n",
    "\n",
    "precios"
   ],
   "metadata": {
    "collapsed": false,
    "pycharm": {
     "name": "#%%\n"
    }
   }
  }
 ],
 "metadata": {
  "kernelspec": {
   "display_name": "Python 3",
   "language": "python",
   "name": "python3"
  },
  "language_info": {
   "codemirror_mode": {
    "name": "ipython",
    "version": 2
   },
   "file_extension": ".py",
   "mimetype": "text/x-python",
   "name": "python",
   "nbconvert_exporter": "python",
   "pygments_lexer": "ipython2",
   "version": "2.7.6"
  }
 },
 "nbformat": 4,
 "nbformat_minor": 0
}