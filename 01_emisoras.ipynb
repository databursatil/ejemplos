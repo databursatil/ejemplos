{
 "cells": [
  {
   "cell_type": "markdown",
   "source": [
    "# Endpoint /emisoras"
   ],
   "metadata": {
    "collapsed": false,
    "pycharm": {
     "name": "#%% md\n"
    }
   }
  },
  {
   "cell_type": "markdown",
   "source": [
    "Este endpoint permite filtrar y obtener información general de la(s) emisora(s) solicitada(s) y de su(s) serie(s).\n",
    "Lo utilizaremos para obtenet todas las emisoras que inicien con a letra \"T\""
   ],
   "metadata": {
    "collapsed": false,
    "pycharm": {
     "name": "#%% md\n"
    }
   }
  },
  {
   "cell_type": "code",
   "execution_count": 1,
   "outputs": [
    {
     "name": "stdout",
     "output_type": "stream",
     "text": [
      "152 emisoras descargadas.\n",
      "Este es un ejemplo de la primera:\n",
      "\n",
      "{'T': {'0': {'Serie': '*', 'Razon Social': 'AT&T INC.', 'ISIN': 'US00206R1023', 'Bolsa': 'NEW YORK STOCK EXCHANGE', 'Tipo Valor Descripcion': 'ACCIONES DEL SISTEMA INTERNACIONAL DE COTIZACIONES', 'Tipo Valor ID': '1A', 'Estatus': 'ACTIVA', 'Acciones en Circulacion': 7142892741}}}\n"
     ]
    }
   ],
   "source": [
    "import requests\n",
    "import json\n",
    "\n",
    "url = \"https://api.databursatil.com/v1/emisoras?\"\n",
    "\n",
    "parametros = {\"token\": \"TU_TOKEN\",\n",
    "              \"letra\": \"T\"}\n",
    "\n",
    "emisoras = requests.get(url, params=parametros)\n",
    "emisoras = json.loads(emisoras.content)\n",
    "\n",
    "print(f\"{len(emisoras)} emisoras descargadas.\")\n",
    "print(\"Este es un ejemplo de la primera:\")\n",
    "print(\"\")\n",
    "\n",
    "for x in emisoras:\n",
    "    print(emisoras[x])\n",
    "    #Retirar el break para mostrar todas las emisoras descargadas\n",
    "    break"
   ],
   "metadata": {
    "collapsed": false,
    "pycharm": {
     "name": "#%%\n"
    }
   }
  },
  {
   "cell_type": "markdown",
   "source": [
    "Tambien puede ser utilizado con una palabra en concreto, en este caso \"CEMEX\""
   ],
   "metadata": {
    "collapsed": false,
    "pycharm": {
     "name": "#%% md\n"
    }
   }
  },
  {
   "cell_type": "code",
   "execution_count": 2,
   "outputs": [
    {
     "name": "stdout",
     "output_type": "stream",
     "text": [
      "1 emisoras descargadas.\n",
      "Este es un ejemplo de la primera:\n",
      "\n",
      "{'CEMEX': {'0': {'Serie': 'A', 'Razon Social': 'CEMEX, S.A.B. DE C.V.', 'ISIN': 'MXP225612300', 'Bolsa': 'BMV', 'Tipo Valor Descripcion': 'ACCIONES DE EMPRESAS COMERCIALES, INDUSTRIALES Y DE SERVICIOS', 'Tipo Valor ID': '1', 'Estatus': 'SUSPENDIDA', 'Acciones en Circulacion': 30309835824}, '1': {'Serie': 'B', 'Razon Social': 'CEMEX, S.A.B. DE C.V.', 'ISIN': 'MXP225612482', 'Bolsa': 'BMV', 'Tipo Valor Descripcion': 'ACCIONES DE EMPRESAS COMERCIALES, INDUSTRIALES Y DE SERVICIOS', 'Tipo Valor ID': '1', 'Estatus': 'SUSPENDIDA', 'Acciones en Circulacion': 15154917912}, '2': {'Serie': 'CPO', 'Razon Social': 'CEMEX, S.A.B. DE C.V.', 'ISIN': 'MXP225611567', 'Bolsa': 'BMV', 'Tipo Valor Descripcion': 'ACCIONES DE EMPRESAS COMERCIALES, INDUSTRIALES Y DE SERVICIOS', 'Tipo Valor ID': '1', 'Estatus': 'ACTIVA', 'Acciones en Circulacion': 15137459907}}}\n"
     ]
    }
   ],
   "source": [
    "import requests\n",
    "import json\n",
    "\n",
    "url = \"https://api.databursatil.com/v1/emisoras?\"\n",
    "\n",
    "parametros = {\"token\": \"TU_TOKEN\",\n",
    "              \"letra\": \"CEMEX\"}\n",
    "\n",
    "emisoras = requests.get(url, params=parametros)\n",
    "emisoras = json.loads(emisoras.content)\n",
    "\n",
    "print(f\"{len(emisoras)} emisoras descargadas.\")\n",
    "print(\"Este es un ejemplo de la primera:\")\n",
    "print(\"\")\n",
    "\n",
    "for x in emisoras:\n",
    "    print(emisoras[x])\n",
    "    #Retirar el break para mostrar todas las emisoras descargadas\n",
    "    break"
   ],
   "metadata": {
    "collapsed": false,
    "pycharm": {
     "name": "#%%\n"
    }
   }
  },
  {
   "cell_type": "markdown",
   "source": [
    "Utilizando el parametro \"mercado\" podemos indicar el origen de las emisoras que estamos buscando. Para este ejemplo, solo en el mercado local. Esto quiere decir cualquiera que cotice en la BMV o BIVA."
   ],
   "metadata": {
    "collapsed": false,
    "pycharm": {
     "name": "#%% md\n"
    }
   }
  },
  {
   "cell_type": "code",
   "execution_count": 3,
   "outputs": [
    {
     "name": "stdout",
     "output_type": "stream",
     "text": [
      "9 emisoras descargadas.\n",
      "Este es un ejemplo de la primera:\n",
      "\n",
      "{'EDOARDO': {'0': {'Serie': 'B', 'Razon Social': 'EDOARDOS MARTIN, S.A.B. DE C.V.', 'ISIN': 'MXP310341013', 'Bolsa': 'BMV', 'Tipo Valor Descripcion': 'ACCIONES DE EMPRESAS COMERCIALES, INDUSTRIALES Y DE SERVICIOS', 'Tipo Valor ID': '1', 'Estatus': 'SUSPENDIDA', 'Acciones en Circulacion': 106476100}}}\n"
     ]
    }
   ],
   "source": [
    "import requests\n",
    "import json\n",
    "\n",
    "url = \"https://api.databursatil.com/v1/emisoras?\"\n",
    "\n",
    "parametros = {\"token\": \"TU_TOKEN\",\n",
    "              \"letra\": \"E\",\n",
    "              \"mercado\": \"local\"}\n",
    "\n",
    "emisoras = requests.get(url, params=parametros)\n",
    "emisoras = json.loads(emisoras.content)\n",
    "print(f\"{len(emisoras)} emisoras descargadas.\")\n",
    "print(\"Este es un ejemplo de la primera:\")\n",
    "print(\"\")\n",
    "\n",
    "for x in emisoras:\n",
    "    print(emisoras[x])\n",
    "    #Retirar el break para mostrar todas las emisoras descargadas\n",
    "    break"
   ],
   "metadata": {
    "collapsed": false,
    "pycharm": {
     "name": "#%%\n"
    }
   }
  },
  {
   "cell_type": "markdown",
   "source": [
    "Ahora aplicamos el filtro contrario, indicando que mercado sea igual a \"global\", esto excluye todas las emisoras que coticen en BMV o BIVA."
   ],
   "metadata": {
    "collapsed": false,
    "pycharm": {
     "name": "#%% md\n"
    }
   }
  },
  {
   "cell_type": "code",
   "execution_count": 4,
   "outputs": [
    {
     "name": "stdout",
     "output_type": "stream",
     "text": [
      "225 emisoras descargadas.\n",
      "Este es un ejemplo de la primera:\n",
      "\n",
      "{'E': {'0': {'Serie': 'N', 'Razon Social': 'ENI-ENTE NAZIONALE IDROCARBURI SPA', 'ISIN': 'US26874R1086', 'Bolsa': 'NEW YORK STOCK EXCHANGE', 'Tipo Valor Descripcion': 'ACCIONES DEL SISTEMA INTERNACIONAL DE COTIZACIONES', 'Tipo Valor ID': '1A', 'Estatus': 'ACTIVA', 'Acciones en Circulacion': 1817092665}}}\n"
     ]
    }
   ],
   "source": [
    "import requests\n",
    "import json\n",
    "\n",
    "url = \"https://api.databursatil.com/v1/emisoras?\"\n",
    "\n",
    "parametros = {\"token\": \"TU_TOKEN\",\n",
    "              \"letra\": \"E\",\n",
    "              \"mercado\": \"global\"}\n",
    "\n",
    "emisoras = requests.get(url, params=parametros)\n",
    "emisoras = json.loads(emisoras.content)\n",
    "print(f\"{len(emisoras)} emisoras descargadas.\")\n",
    "print(\"Este es un ejemplo de la primera:\")\n",
    "print(\"\")\n",
    "\n",
    "for x in emisoras:\n",
    "    print(emisoras[x])\n",
    "    #Retirar el break para mostrar todas las emisoras descargadas\n",
    "    break"
   ],
   "metadata": {
    "collapsed": false,
    "pycharm": {
     "name": "#%%\n"
    }
   }
  }
 ],
 "metadata": {
  "kernelspec": {
   "display_name": "Python 3",
   "language": "python",
   "name": "python3"
  },
  "language_info": {
   "codemirror_mode": {
    "name": "ipython",
    "version": 2
   },
   "file_extension": ".py",
   "mimetype": "text/x-python",
   "name": "python",
   "nbconvert_exporter": "python",
   "pygments_lexer": "ipython2",
   "version": "2.7.6"
  }
 },
 "nbformat": 4,
 "nbformat_minor": 0
}